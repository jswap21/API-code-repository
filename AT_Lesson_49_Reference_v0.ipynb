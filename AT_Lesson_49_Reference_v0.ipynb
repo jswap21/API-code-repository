{
  "nbformat": 4,
  "nbformat_minor": 0,
  "metadata": {
    "colab": {
      "provenance": [],
      "include_colab_link": true
    },
    "kernelspec": {
      "name": "python3",
      "display_name": "Python 3"
    }
  },
  "cells": [
    {
      "cell_type": "markdown",
      "metadata": {
        "id": "view-in-github",
        "colab_type": "text"
      },
      "source": [
        "<a href=\"https://colab.research.google.com/github/jswap21/API-code-repository/blob/main/AT_Lesson_49_Reference_v0.ipynb\" target=\"_parent\"><img src=\"https://colab.research.google.com/assets/colab-badge.svg\" alt=\"Open In Colab\"/></a>"
      ]
    },
    {
      "cell_type": "markdown",
      "metadata": {
        "id": "Q7hw3pDcIn2J"
      },
      "source": [
        "# Lesson 49: Central Limit Theorem I"
      ]
    },
    {
      "cell_type": "markdown",
      "metadata": {
        "id": "yzK99EA6FZlE"
      },
      "source": [
        "**WARNING:** The reference notebook is meant **ONLY** for a teacher. Please **DO NOT** share it with any student. The contents of the reference notebook are meant only to prepare a teacher for a class. To conduct the class, use the class copy of the reference notebook. \n",
        "\n",
        "|Particulars|Description|\n",
        "|-|-|\n",
        "|**Topic**|Central Limit Theorem I|\n",
        "|||\n",
        "|**Class Description**|In this class, a student will learn the concept of Central Limit Theorem (CLT) using Heart Disease UCI dataset|\n",
        "|||\n",
        "|**Class**|C49|\n",
        "|||\n",
        "|**Class Time**|45 minutes|\n",
        "|||\n",
        "|**Goals**|Plot distribution of the mean of the samples of `chol` (cholesterol) column|\n",
        "|||\n",
        "|**Teacher Resources**|Google Account|\n",
        "||Laptop with internet connectivity|\n",
        "||Earphones with mic|\n",
        "|||\n",
        "|**Student Resources**|Google Account|\n",
        "||Laptop with internet connectivity|\n",
        "||Earphones with mic|"
      ]
    },
    {
      "cell_type": "markdown",
      "metadata": {
        "id": "fH1v4Y9DFeMN"
      },
      "source": [
        "---"
      ]
    },
    {
      "cell_type": "markdown",
      "metadata": {
        "id": "1RA54dFGGAIH"
      },
      "source": [
        "### Warm-up Quiz\n",
        "\n",
        "```\n",
        "TEACHER\n",
        "I have an exciting quiz question for you! Are you ready to answer this question?\n",
        "\n",
        "EXPECTED STUDENT RESPONSE\n",
        "Yes.\n",
        "```\n",
        "\n",
        "**Instructions for the Teacher:**\n",
        "- Please click on the \"Quiz Time\" button on the bottom right corner of your screen to start the In-Class Quiz. <img src='https://student-datasets-bucket.s3.ap-south-1.amazonaws.com/images/quiz-time.png' width = 150>\n",
        "\n",
        "- A quiz will be visible to both you and the student. Encourage the student to answer the quiz question. \n",
        "\n",
        "- The student may choose the wrong option, help the student to think correctly about the question and then answer again. \n",
        "\n",
        "- After the student selects the correct option, the \"End Quiz\" button will start appearing on your screen. <img src='https://student-datasets-bucket.s3.ap-south-1.amazonaws.com/images/end-quiz.png' width = 150>  \n",
        "\n",
        "- Click the \"End quiz\" button to close the quiz pop-up and continue the class. \n",
        "  \n",
        "- Do not spend more than 2 minutes on this quiz.\n",
        "\n",
        "\n"
      ]
    },
    {
      "cell_type": "markdown",
      "metadata": {
        "id": "pOF3Oe9FGA6N"
      },
      "source": [
        "---"
      ]
    },
    {
      "cell_type": "markdown",
      "metadata": {
        "id": "ze9uSJt-I-0E"
      },
      "source": [
        "### Teacher-Student Activities\n",
        "\n",
        "In this class, you will learn about sampling distribution and Central Limit Theorem which is one of the most important theorems used in statistical inference. We will implement the Central Limit Theorem on a **Heart Disease dataset**. For this, we need to learn a simple concept called sampling. Before we continue further, let's load the heart disease dataset.\n",
        "\n",
        "**Data Description**\n",
        "\n",
        "The heart Disease UCI dataset contains data collected on 14 different attributes by examining 303 patients. The dataset focuses only on differentiating patients having heart disease; labelled as value 1 and those not having heart disease; labelled as value 0. The 14 attributes (or columns) are as follows:\n",
        "\n",
        "|Columns|Description|\n",
        "|-|-|\n",
        "|age|age in years|\n",
        "|sex|sex (1 = male; 0 = female)|\n",
        "|cp|chest pain type (4 values)|\n",
        "|trestbps|resting blood pressure (in mm Hg on admission to the hospital)|\n",
        "|chol|serum cholesterol in $\\frac{mg}{dl}$|\n",
        "|fbs|fasting blood sugar > 120 $\\frac{mg}{dl}$|\n",
        "|restecg|resting electrocardiographic results (values 0, 1, 2)|\n",
        "|thalach|maximum heart rate achieved|\n",
        "|exang|exercise induced angina (1 = yes; 0 = no)|\n",
        "|oldpeak|ST depression induced by exercise relative to rest|\n",
        "|slope|the slope of the peak exercise ST segment|\n",
        "|ca|number of major vessels (0-3) colored by fluoroscopy|\n",
        "|thal|A blood disorder called thalassemia|\n",
        "|target|1 = presence of heart disease; 0 = absence of heart disease|\n",
        "\n",
        "**Source:** https://archive.ics.uci.edu/ml/datasets/Heart+Disease\n",
        "\n",
        "\n"
      ]
    },
    {
      "cell_type": "markdown",
      "metadata": {
        "id": "BpKI2pWEtREK"
      },
      "source": [
        "---"
      ]
    },
    {
      "cell_type": "markdown",
      "metadata": {
        "id": "f2UBkl1AZuRc"
      },
      "source": [
        "#### Activity 1: Loading Data\n",
        "\n",
        "Load the heart disease dataset. Here's the dataset link:\n",
        "\n",
        "https://student-datasets-bucket.s3.ap-south-1.amazonaws.com/whitehat-ds-datasets/uci-heart-disease/heart.csv\n"
      ]
    },
    {
      "cell_type": "code",
      "metadata": {
        "id": "tmRB05lddS--",
        "colab": {
          "base_uri": "https://localhost:8080/",
          "height": 204
        },
        "outputId": "73ac77da-d9d0-430b-9d71-7d6d08ae9b66"
      },
      "source": [
        "# S1.1: Import the required modules and load the heart disease dataset. Also, display the first five rows.\n",
        "import numpy as np\n",
        "import pandas as pd\n",
        "import matplotlib.pyplot as plt\n",
        "import seaborn as sns\n",
        "\n",
        "import warnings\n",
        "warnings.filterwarnings('ignore')\n",
        "\n",
        "csv_file = 'https://student-datasets-bucket.s3.ap-south-1.amazonaws.com/whitehat-ds-datasets/uci-heart-disease/heart.csv'\n",
        "df = pd.read_csv(csv_file)\n",
        "df.head()"
      ],
      "execution_count": null,
      "outputs": [
        {
          "output_type": "execute_result",
          "data": {
            "text/html": [
              "<div>\n",
              "<style scoped>\n",
              "    .dataframe tbody tr th:only-of-type {\n",
              "        vertical-align: middle;\n",
              "    }\n",
              "\n",
              "    .dataframe tbody tr th {\n",
              "        vertical-align: top;\n",
              "    }\n",
              "\n",
              "    .dataframe thead th {\n",
              "        text-align: right;\n",
              "    }\n",
              "</style>\n",
              "<table border=\"1\" class=\"dataframe\">\n",
              "  <thead>\n",
              "    <tr style=\"text-align: right;\">\n",
              "      <th></th>\n",
              "      <th>age</th>\n",
              "      <th>sex</th>\n",
              "      <th>cp</th>\n",
              "      <th>trestbps</th>\n",
              "      <th>chol</th>\n",
              "      <th>fbs</th>\n",
              "      <th>restecg</th>\n",
              "      <th>thalach</th>\n",
              "      <th>exang</th>\n",
              "      <th>oldpeak</th>\n",
              "      <th>slope</th>\n",
              "      <th>ca</th>\n",
              "      <th>thal</th>\n",
              "      <th>target</th>\n",
              "    </tr>\n",
              "  </thead>\n",
              "  <tbody>\n",
              "    <tr>\n",
              "      <th>0</th>\n",
              "      <td>63</td>\n",
              "      <td>1</td>\n",
              "      <td>3</td>\n",
              "      <td>145</td>\n",
              "      <td>233</td>\n",
              "      <td>1</td>\n",
              "      <td>0</td>\n",
              "      <td>150</td>\n",
              "      <td>0</td>\n",
              "      <td>2.3</td>\n",
              "      <td>0</td>\n",
              "      <td>0</td>\n",
              "      <td>1</td>\n",
              "      <td>1</td>\n",
              "    </tr>\n",
              "    <tr>\n",
              "      <th>1</th>\n",
              "      <td>37</td>\n",
              "      <td>1</td>\n",
              "      <td>2</td>\n",
              "      <td>130</td>\n",
              "      <td>250</td>\n",
              "      <td>0</td>\n",
              "      <td>1</td>\n",
              "      <td>187</td>\n",
              "      <td>0</td>\n",
              "      <td>3.5</td>\n",
              "      <td>0</td>\n",
              "      <td>0</td>\n",
              "      <td>2</td>\n",
              "      <td>1</td>\n",
              "    </tr>\n",
              "    <tr>\n",
              "      <th>2</th>\n",
              "      <td>41</td>\n",
              "      <td>0</td>\n",
              "      <td>1</td>\n",
              "      <td>130</td>\n",
              "      <td>204</td>\n",
              "      <td>0</td>\n",
              "      <td>0</td>\n",
              "      <td>172</td>\n",
              "      <td>0</td>\n",
              "      <td>1.4</td>\n",
              "      <td>2</td>\n",
              "      <td>0</td>\n",
              "      <td>2</td>\n",
              "      <td>1</td>\n",
              "    </tr>\n",
              "    <tr>\n",
              "      <th>3</th>\n",
              "      <td>56</td>\n",
              "      <td>1</td>\n",
              "      <td>1</td>\n",
              "      <td>120</td>\n",
              "      <td>236</td>\n",
              "      <td>0</td>\n",
              "      <td>1</td>\n",
              "      <td>178</td>\n",
              "      <td>0</td>\n",
              "      <td>0.8</td>\n",
              "      <td>2</td>\n",
              "      <td>0</td>\n",
              "      <td>2</td>\n",
              "      <td>1</td>\n",
              "    </tr>\n",
              "    <tr>\n",
              "      <th>4</th>\n",
              "      <td>57</td>\n",
              "      <td>0</td>\n",
              "      <td>0</td>\n",
              "      <td>120</td>\n",
              "      <td>354</td>\n",
              "      <td>0</td>\n",
              "      <td>1</td>\n",
              "      <td>163</td>\n",
              "      <td>1</td>\n",
              "      <td>0.6</td>\n",
              "      <td>2</td>\n",
              "      <td>0</td>\n",
              "      <td>2</td>\n",
              "      <td>1</td>\n",
              "    </tr>\n",
              "  </tbody>\n",
              "</table>\n",
              "</div>"
            ],
            "text/plain": [
              "   age  sex  cp  trestbps  chol  fbs  ...  exang  oldpeak  slope  ca  thal  target\n",
              "0   63    1   3       145   233    1  ...      0      2.3      0   0     1       1\n",
              "1   37    1   2       130   250    0  ...      0      3.5      0   0     2       1\n",
              "2   41    0   1       130   204    0  ...      0      1.4      2   0     2       1\n",
              "3   56    1   1       120   236    0  ...      0      0.8      2   0     2       1\n",
              "4   57    0   0       120   354    0  ...      1      0.6      2   0     2       1\n",
              "\n",
              "[5 rows x 14 columns]"
            ]
          },
          "metadata": {
            "tags": []
          },
          "execution_count": 1
        }
      ]
    },
    {
      "cell_type": "markdown",
      "metadata": {
        "id": "h1a-clG-jqPr"
      },
      "source": [
        "Let's first look at the complete information on the `df` DataFrame."
      ]
    },
    {
      "cell_type": "code",
      "metadata": {
        "id": "M2x3F5XtkAGd",
        "colab": {
          "base_uri": "https://localhost:8080/"
        },
        "outputId": "892788bc-a832-49f0-fc5f-d5157a91e952"
      },
      "source": [
        "# S1.2: Apply the 'info()' function on the 'df' DataFrame.\n",
        "df.info()"
      ],
      "execution_count": null,
      "outputs": [
        {
          "output_type": "stream",
          "text": [
            "<class 'pandas.core.frame.DataFrame'>\n",
            "RangeIndex: 303 entries, 0 to 302\n",
            "Data columns (total 14 columns):\n",
            " #   Column    Non-Null Count  Dtype  \n",
            "---  ------    --------------  -----  \n",
            " 0   age       303 non-null    int64  \n",
            " 1   sex       303 non-null    int64  \n",
            " 2   cp        303 non-null    int64  \n",
            " 3   trestbps  303 non-null    int64  \n",
            " 4   chol      303 non-null    int64  \n",
            " 5   fbs       303 non-null    int64  \n",
            " 6   restecg   303 non-null    int64  \n",
            " 7   thalach   303 non-null    int64  \n",
            " 8   exang     303 non-null    int64  \n",
            " 9   oldpeak   303 non-null    float64\n",
            " 10  slope     303 non-null    int64  \n",
            " 11  ca        303 non-null    int64  \n",
            " 12  thal      303 non-null    int64  \n",
            " 13  target    303 non-null    int64  \n",
            "dtypes: float64(1), int64(13)\n",
            "memory usage: 33.3 KB\n"
          ],
          "name": "stdout"
        }
      ]
    },
    {
      "cell_type": "markdown",
      "metadata": {
        "id": "RgnxI54ckEb6"
      },
      "source": [
        "As you can see there are 303 entries for each column and no missing values. For implementing the Central Limit theorem, we need to choose a column having continuous numeric values. So, let's consider `chol` (cholesterol) column and plot its distribution."
      ]
    },
    {
      "cell_type": "markdown",
      "metadata": {
        "id": "f6cHtaNIxePz"
      },
      "source": [
        "---"
      ]
    },
    {
      "cell_type": "markdown",
      "metadata": {
        "id": "_7HeL3fGxe4Q"
      },
      "source": [
        "#### Activity 2: Sampling\n",
        "\n",
        "**Q: What is sampling?**\n",
        "\n",
        "Sampling is a process of taking a few data points (or observations) from an entire column. Let's draw a sample of 10 cholesterol values from the `chol` column. For this, you need to use the `sample()` function from the `pandas` module. The source of the sample itself becomes the population. It takes an integer value as input which denotes the number of samples to be drawn.\n",
        "\n",
        "**Syntax: `sample(n = num_of_samples)`**\n",
        "\n"
      ]
    },
    {
      "cell_type": "code",
      "metadata": {
        "id": "sv2HkJAiZhH7",
        "colab": {
          "base_uri": "https://localhost:8080/"
        },
        "outputId": "5499fb6b-f0d0-416f-acc2-01567cd19309"
      },
      "source": [
        "# S2.1: Draw a sample of 10 cholesterol values from the 'chol' column.\n",
        "chol_series = df['chol']\n",
        "chol_sample = chol_series.sample(n = 10) # n = 10 denotes that we are drawing 10 samples from a population of 303.\n",
        "print(chol_series.size)\n",
        "chol_sample"
      ],
      "execution_count": null,
      "outputs": [
        {
          "output_type": "stream",
          "text": [
            "303\n"
          ],
          "name": "stdout"
        },
        {
          "output_type": "execute_result",
          "data": {
            "text/plain": [
              "144    197\n",
              "268    286\n",
              "74     213\n",
              "9      168\n",
              "69     209\n",
              "98     315\n",
              "189    172\n",
              "250    298\n",
              "15     219\n",
              "61     309\n",
              "Name: chol, dtype: int64"
            ]
          },
          "metadata": {
            "tags": []
          },
          "execution_count": 3
        }
      ]
    },
    {
      "cell_type": "markdown",
      "metadata": {
        "id": "pvPhUc0wZU93"
      },
      "source": [
        "As you can see, we have taken a sample of 10 random cholesterol values from the `chol` column.\n",
        "\n",
        "**Q: Why do we need to do sampling?**\n",
        "\n",
        "Sometimes there is a need to draw some valid conclusions from a large group of individuals or the entire population. Suppose you need to find out the common symptoms found in the patient of heart disease. It may not be feasible or  impossible to examine the symptoms of the entire population. Instead we may examine only a small part or portion of the population known as **sample**. In this way, we can find out what are the common symptoms of heart disease found in patients for the entire population based on the results found in the sample. \n",
        "\n",
        "\n",
        "**Mean of Samples**\n",
        "\n",
        "We will draw several random samples and find their means. Then we will plot the means on a histogram. You will see that means of all the samples follow normal distribution. You have seen that it is easy to make probabilistic predictions using the normal distribution. \n",
        "\n",
        "Let's plot the distribution of the `chol` column."
      ]
    },
    {
      "cell_type": "code",
      "metadata": {
        "id": "l8AXn58-k_O9",
        "colab": {
          "base_uri": "https://localhost:8080/",
          "height": 373
        },
        "outputId": "4c912f08-1595-4811-bb99-c6ca8f57268d"
      },
      "source": [
        "# S2.2: Create a histogram for all the observations in the 'chol' column. \n",
        "plt.figure(figsize = (12, 5))\n",
        "plt.hist(chol_series, bins = 'sturges', edgecolor = 'black')\n",
        "plt.xlabel('Cholesterol', fontsize = 14)\n",
        "plt.ylabel('Frequency', fontsize = 14)\n",
        "plt.title('Histogram of Cholesterol Frequency', fontsize = 16)\n",
        "plt.axvline(x = chol_series.mean(), color = 'r')\n",
        "plt.show()\n",
        "print(f\"Mean cholesterol value is {chol_series.mean():.3f}\")"
      ],
      "execution_count": null,
      "outputs": [
        {
          "output_type": "display_data",
          "data": {
            "image/png": "[encoded data removed]",
            "text/plain": [
              "<Figure size 864x360 with 1 Axes>"
            ]
          },
          "metadata": {
            "tags": [],
            "needs_background": "light"
          }
        },
        {
          "output_type": "stream",
          "text": [
            "Mean cholesterol value is 246.264\n"
          ],
          "name": "stdout"
        }
      ]
    },
    {
      "cell_type": "markdown",
      "metadata": {
        "id": "2-9pWOeSnsab"
      },
      "source": [
        "We can see that the vertical red line which indicates the mean of data is almost at the centre of  distribution. It is not exactly a normal distribution but close to it. The mean of population here is $246.264$ approx. The population mean is denoted as $\\mu$. Thus, $\\mu = 246.264$\n",
        "\n"
      ]
    },
    {
      "cell_type": "markdown",
      "metadata": {
        "id": "j8pd_qHxtgtu"
      },
      "source": [
        "---"
      ]
    },
    {
      "cell_type": "markdown",
      "metadata": {
        "id": "N6Rxqc5aoV2X"
      },
      "source": [
        "#### Activity 3: Distribution of Means of Samples\n",
        "\n",
        "Let's draw 300 samples from the `chol` column each having 30 observations from the `chol` column and compute their means. Then let's create a histogram for the means of 300 samples."
      ]
    },
    {
      "cell_type": "code",
      "metadata": {
        "id": "_rav_4fcO3pN",
        "colab": {
          "base_uri": "https://localhost:8080/",
          "height": 373
        },
        "outputId": "2bb383ad-083c-4cb8-c054-65e79539856e"
      },
      "source": [
        "# T3.1: Draw 300 samples from the 'chol' column each having 30 observations, compute their means and create a histogram for the means of samples.\n",
        "mean_list = []\n",
        "no_of_samples = 300\n",
        "for i in range(no_of_samples):\n",
        "    mean_list.append(chol_series.sample(n = 30).mean())\n",
        "\n",
        "plt.figure(figsize = (12, 5))\n",
        "plt.hist(mean_list, bins = 'sturges', edgecolor = 'black')\n",
        "plt.xlabel('Means of Samples', fontsize = 14) # 'fontsize' attribute sets the desired font size.\n",
        "plt.ylabel('Frequency', fontsize = 14)\n",
        "plt.title('Histogram for Mean of Cholesterol Samples', fontsize = 16)\n",
        "plt.axvline(x = np.mean(mean_list), color = 'r')\n",
        "plt.show()\n",
        "print(f\"Mean of sample means = {np.mean(mean_list):.3f}\")"
      ],
      "execution_count": null,
      "outputs": [
        {
          "output_type": "display_data",
          "data": {
            "image/png": "[encoded data removed]",
            "text/plain": [
              "<Figure size 864x360 with 1 Axes>"
            ]
          },
          "metadata": {
            "tags": [],
            "needs_background": "light"
          }
        },
        {
          "output_type": "stream",
          "text": [
            "Mean of sample means = 245.847\n"
          ],
          "name": "stdout"
        }
      ]
    },
    {
      "cell_type": "markdown",
      "metadata": {
        "id": "KY8RUpcogKCP"
      },
      "source": [
        "In the above code: \n",
        "\n",
        "1. We created an empty list to store the means of 300 samples.\n",
        "\n",
        "2. Using the `sample()` function, we took 300 samples from the `chol` column each having 30 different cholesterol observations.\n",
        "\n",
        "3. Using the `mean()` function, we calculated the mean for each sample containing 30 cholesterol values.\n",
        "\n",
        "4. Using the `append()` function, we added each sample mean to the `mean_list`\n",
        "\n",
        "5. We created a histogram for all the 300 means of 300 different samples.\n",
        "\n",
        "6. The mean of all the sample means turn out to be approx 246 which is close to the mean of all the values in the `chol` column. This is very important observation\n",
        "\n",
        "*If we take several samples of a dataset (or population) such that each sample contains sufficient number of observations, then the mean of all the sample means will be very close or nearly equal to the population mean*.\n",
        "\n",
        "This is called **Central Limit Theorem (CLT)**. Also, the means of all the samples follow normal distribution (or bell curve). However, the following two factors must be satisfied:\n",
        "\n",
        "*   For an accurate normal distribution, the sample sizes should be large.\n",
        "\n",
        "*   The more closely the original population resembles a normal distribution, less sample size will be required. In our case the original shape of the distribution for the `chol` column was almost normal. Hence the sample size of 30 was good enough. However, if the original population is not normal (may be badly skewed, has multiple peaks, or has many outliers), sample size must be larger than 30.\n",
        "\n",
        "Let's again take 300 samples and observe the distributions for the means of different samples each having sample sizes $n = 500, 1000, 10000$\n",
        "\n",
        "**Note:** The `chol` column has exactly 303 values. So, to create a sample of 500 values, we have to provide another input `True` which is a value to the `replace` parameter inside the `sample()` function.\n",
        "\n",
        "**Syntax:** `sample(n = num_of_samples, replace = True)`\n",
        "\n",
        "`replace = True` denotes that repeat the values from the `chol` column (population in general).\n",
        "\n",
        "\n"
      ]
    },
    {
      "cell_type": "code",
      "metadata": {
        "id": "W_SVNCx_Hveo",
        "colab": {
          "base_uri": "https://localhost:8080/",
          "height": 461
        },
        "outputId": "23e9178a-3048-41f3-a642-176b88145b6f"
      },
      "source": [
        "# S3.1: Create histogram for the means of the samples of the sizes 500, 1000, 10000.\n",
        "means_list2 = []\n",
        "means_list3 = []\n",
        "means_list4 = []\n",
        "\n",
        "no_of_samples = 300\n",
        "\n",
        "for i in range(no_of_samples):\n",
        "    means_list2.append(chol_series.sample(n = 500, replace = True).mean())\n",
        "    means_list3.append(chol_series.sample(n = 1000, replace = True).mean())\n",
        "    means_list4.append(chol_series.sample(n = 10000, replace = True).mean())\n",
        "\n",
        "plt.figure(figsize = (16, 6))\n",
        "sns.distplot(means_list2, hist = False, bins = 'sturges', label = 'Sample size = 500')\n",
        "sns.distplot(means_list3, hist = False, bins = 'sturges', label = 'Sample size = 1000') \n",
        "sns.distplot(means_list4, hist = False, bins = 'sturges', label = 'Sample size = 10000') \n",
        "\n",
        "plt.axvline(x = chol_series.mean(), color = 'r') #for getting actual population mean\n",
        "\n",
        "plt.xlabel('Mean of Samples', fontsize = 14)\n",
        "plt.ylabel('Frequency', fontsize = 14)\n",
        "plt.title('Histogram for Mean of Cholesterol Samples', fontsize = 16)\n",
        "plt.legend()\n",
        "plt.show()\n",
        "\n",
        "print(f\"Mean of samples of size 500 = {np.mean(means_list2):.3f}\")\n",
        "print(f\"Mean of samples of size 1000 = {np.mean(means_list3):.3f}\")\n",
        "print(f\"Mean of samples of size 10000 = {np.mean(means_list4):.3f}\")"
      ],
      "execution_count": null,
      "outputs": [
        {
          "output_type": "display_data",
          "data": {
            "image/png": "[encoded data removed]",
            "text/plain": [
              "<Figure size 1152x432 with 1 Axes>"
            ]
          },
          "metadata": {
            "tags": [],
            "needs_background": "light"
          }
        },
        {
          "output_type": "stream",
          "text": [
            "Mean of samples of size 500 = 246.455\n",
            "Mean of samples of size 1000 = 246.331\n",
            "Mean of samples of size 10000 = 246.244\n"
          ],
          "name": "stdout"
        }
      ]
    },
    {
      "cell_type": "markdown",
      "metadata": {
        "id": "1qcy7zQZSO3x"
      },
      "source": [
        "You may notice that as the sample size increases, the distribution of means of all the samples tends to look more and more like a normal distribution and groups more closely around the population mean (shown by the red vertical line).\n",
        "\n",
        "Let's try to draw a sample having more than 303 values using the `sample()` with passing `replace = False` as an input.\n",
        "\n",
        "**Note:** You should get `ValueError` with the following message:\n",
        "\n",
        "```\n",
        "ValueError: Cannot take a larger sample than population when 'replace=False'\n",
        "```\n",
        "\n",
        "\n"
      ]
    },
    {
      "cell_type": "code",
      "metadata": {
        "id": "q4qIBiV9pWdx",
        "colab": {
          "base_uri": "https://localhost:8080/",
          "height": 351
        },
        "outputId": "4fecc5cf-be2b-4c20-de73-f720b9f4169b"
      },
      "source": [
        "# S3.2: Draw a sample having more than 303 values using the sample() function with passing replace = False as an input.\n",
        "chol_samp = chol_series.sample(n = 304, replace = False)\n",
        "chol_samp"
      ],
      "execution_count": null,
      "outputs": [
        {
          "output_type": "error",
          "ename": "ValueError",
          "evalue": "ignored",
          "traceback": [
            "\u001b[0;31m---------------------------------------------------------------------------\u001b[0m",
            "\u001b[0;31mValueError\u001b[0m                                Traceback (most recent call last)",
            "\u001b[0;32m<ipython-input-7-aa195901a77c>\u001b[0m in \u001b[0;36m<module>\u001b[0;34m()\u001b[0m\n\u001b[1;32m      1\u001b[0m \u001b[0;31m# S3.2: Draw a sample having more than 303 values using the sample() function with passing replace = False as an input.\u001b[0m\u001b[0;34m\u001b[0m\u001b[0;34m\u001b[0m\u001b[0;34m\u001b[0m\u001b[0m\n\u001b[0;32m----> 2\u001b[0;31m \u001b[0mchol_samp\u001b[0m \u001b[0;34m=\u001b[0m \u001b[0mchol_series\u001b[0m\u001b[0;34m.\u001b[0m\u001b[0msample\u001b[0m\u001b[0;34m(\u001b[0m\u001b[0mn\u001b[0m \u001b[0;34m=\u001b[0m \u001b[0;36m304\u001b[0m\u001b[0;34m,\u001b[0m \u001b[0mreplace\u001b[0m \u001b[0;34m=\u001b[0m \u001b[0;32mFalse\u001b[0m\u001b[0;34m)\u001b[0m\u001b[0;34m\u001b[0m\u001b[0;34m\u001b[0m\u001b[0m\n\u001b[0m\u001b[1;32m      3\u001b[0m \u001b[0mchol_samp\u001b[0m\u001b[0;34m\u001b[0m\u001b[0;34m\u001b[0m\u001b[0m\n",
            "\u001b[0;32m/usr/local/lib/python3.6/dist-packages/pandas/core/generic.py\u001b[0m in \u001b[0;36msample\u001b[0;34m(self, n, frac, replace, weights, random_state, axis)\u001b[0m\n\u001b[1;32m   4993\u001b[0m             )\n\u001b[1;32m   4994\u001b[0m \u001b[0;34m\u001b[0m\u001b[0m\n\u001b[0;32m-> 4995\u001b[0;31m         \u001b[0mlocs\u001b[0m \u001b[0;34m=\u001b[0m \u001b[0mrs\u001b[0m\u001b[0;34m.\u001b[0m\u001b[0mchoice\u001b[0m\u001b[0;34m(\u001b[0m\u001b[0maxis_length\u001b[0m\u001b[0;34m,\u001b[0m \u001b[0msize\u001b[0m\u001b[0;34m=\u001b[0m\u001b[0mn\u001b[0m\u001b[0;34m,\u001b[0m \u001b[0mreplace\u001b[0m\u001b[0;34m=\u001b[0m\u001b[0mreplace\u001b[0m\u001b[0;34m,\u001b[0m \u001b[0mp\u001b[0m\u001b[0;34m=\u001b[0m\u001b[0mweights\u001b[0m\u001b[0;34m)\u001b[0m\u001b[0;34m\u001b[0m\u001b[0;34m\u001b[0m\u001b[0m\n\u001b[0m\u001b[1;32m   4996\u001b[0m         \u001b[0;32mreturn\u001b[0m \u001b[0mself\u001b[0m\u001b[0;34m.\u001b[0m\u001b[0mtake\u001b[0m\u001b[0;34m(\u001b[0m\u001b[0mlocs\u001b[0m\u001b[0;34m,\u001b[0m \u001b[0maxis\u001b[0m\u001b[0;34m=\u001b[0m\u001b[0maxis\u001b[0m\u001b[0;34m)\u001b[0m\u001b[0;34m\u001b[0m\u001b[0;34m\u001b[0m\u001b[0m\n\u001b[1;32m   4997\u001b[0m \u001b[0;34m\u001b[0m\u001b[0m\n",
            "\u001b[0;32mmtrand.pyx\u001b[0m in \u001b[0;36mnumpy.random.mtrand.RandomState.choice\u001b[0;34m()\u001b[0m\n",
            "\u001b[0;31mValueError\u001b[0m: Cannot take a larger sample than population when 'replace=False'"
          ]
        }
      ]
    },
    {
      "cell_type": "markdown",
      "metadata": {
        "id": "DMyYBfl6o_t3"
      },
      "source": [
        "Let's see what happens when the sample size of all the samples is very small.\n"
      ]
    },
    {
      "cell_type": "code",
      "metadata": {
        "id": "1qTxg3LrbMjL",
        "colab": {
          "base_uri": "https://localhost:8080/",
          "height": 373
        },
        "outputId": "6b94908e-803a-489a-c970-9a86d6b336b7"
      },
      "source": [
        "# S3.3: Take 300 samples each having 2 observations, calculate their means and create the histogram for means of all the samples. \n",
        "means_list5 = []\n",
        "no_of_samples = 300\n",
        "for i in range(no_of_samples):\n",
        "    means_list5.append(chol_series.sample(n = 2).mean())\n",
        "\n",
        "plt.figure(figsize = (16, 5))\n",
        "plt.hist(means_list5, bins = 'sturges', edgecolor = \"black\")\n",
        "plt.xlabel('Mean of Samples', fontsize = 14)\n",
        "plt.ylabel('Frequency', fontsize = 14)\n",
        "plt.title('Histogram for Mean of Cholesterol Samples', fontsize = 16)\n",
        "plt.axvline(x = np.mean(means_list5), color = 'r') # for giving mean line\n",
        "plt.show()\n",
        "print(f\"Mean of sample means: {np.mean(means_list5):.3f}\")"
      ],
      "execution_count": null,
      "outputs": [
        {
          "output_type": "display_data",
          "data": {
            "image/png": "[encoded data removed]",
            "text/plain": [
              "<Figure size 1152x360 with 1 Axes>"
            ]
          },
          "metadata": {
            "tags": [],
            "needs_background": "light"
          }
        },
        {
          "output_type": "stream",
          "text": [
            "Mean of sample means: 245.622\n"
          ],
          "name": "stdout"
        }
      ]
    },
    {
      "cell_type": "markdown",
      "metadata": {
        "id": "FbNUflQEkcKz"
      },
      "source": [
        "Here you can notice that even when the sample size is very small, i.e., $n = 2$, the distribution of the mean of samples is normal. This is because the population (`chol` column ) follows normal distribution approximately."
      ]
    },
    {
      "cell_type": "markdown",
      "metadata": {
        "id": "xvj0rNd0D6fZ"
      },
      "source": [
        "---"
      ]
    },
    {
      "cell_type": "markdown",
      "metadata": {
        "id": "5O_rJsIfDo1n"
      },
      "source": [
        "## Additional Activities\n",
        "\n",
        "The activities starting from this point are optional. Please do these activities ONLY if you have time to spare in the class. Otherwise, skip to the Wrap-Up section. The additional activities will not be available in the class copy of the notebook. You will have to manually add these activities in the class copy by adding new text and code cells.\n",
        "\n",
        "Moreover, you don't have to do all the additional activities. Depending on the availability of time in a class, you can choose the number of additional activities to perform from this collection."
      ]
    },
    {
      "cell_type": "markdown",
      "metadata": {
        "id": "OE6kx_9lmq3a"
      },
      "source": [
        "---"
      ]
    },
    {
      "cell_type": "markdown",
      "metadata": {
        "id": "Z2oSAoXTmsQ1"
      },
      "source": [
        "#### Activity 1: Distribution for `trestbps` & `thalach` Columns\n",
        "\n",
        "Create a histogram for the `trestbps` & `thalach` columns and find out whether they follow normal distribution."
      ]
    },
    {
      "cell_type": "code",
      "metadata": {
        "id": "VZzrDmaeAdpx",
        "colab": {
          "base_uri": "https://localhost:8080/",
          "height": 373
        },
        "outputId": "284abea1-c513-49ec-9fc2-490240f6084d"
      },
      "source": [
        "# S1.1: Create a histogram for 'trestbps' column.\n",
        "plt.figure(figsize = (14, 5))\n",
        "plt.hist(df['trestbps'], bins = 'sturges', edgecolor = 'black')\n",
        "plt.xlabel('Maximum blood pressure', fontsize = 14)\n",
        "plt.ylabel('Frequency', fontsize = 14)\n",
        "plt.title('Histogram for Maximum Blood Pressure', fontsize = 16)\n",
        "plt.axvline(x = df['trestbps'].mean(), color = 'r')\n",
        "plt.show()\n",
        "print(f\"The mean maximum blood pressure = {df['trestbps'].mean():.3f}\")"
      ],
      "execution_count": null,
      "outputs": [
        {
          "output_type": "display_data",
          "data": {
            "image/png": "[encoded data removed]",
            "text/plain": [
              "<Figure size 1008x360 with 1 Axes>"
            ]
          },
          "metadata": {
            "tags": [],
            "needs_background": "light"
          }
        },
        {
          "output_type": "stream",
          "text": [
            "The mean maximum blood pressure = 131.624\n"
          ],
          "name": "stdout"
        }
      ]
    },
    {
      "cell_type": "markdown",
      "metadata": {
        "id": "Y8OJtOZap94F"
      },
      "source": [
        "Now draw 500 samples from the `trestbps` column each of size 30 and create a histogram for the mean of the samples."
      ]
    },
    {
      "cell_type": "code",
      "metadata": {
        "id": "mbbh0dJ8qMDr",
        "colab": {
          "base_uri": "https://localhost:8080/",
          "height": 373
        },
        "outputId": "c906924d-ddc1-445a-d4f5-12235afb1f45"
      },
      "source": [
        "# AS1.2: Create a histogram for the mean of the samples taken from the 'trestbps' column.\n",
        "trestbps_means_list = []\n",
        "for i in range(500):\n",
        "    trestbps_means_list.append(df['trestbps'].sample(n = 30, replace = True).mean())\n",
        "\n",
        "plt.figure(figsize = (14, 5))\n",
        "plt.hist(trestbps_means_list, bins = 'sturges', edgecolor = 'black')\n",
        "plt.xlabel('Mean of samples of maximum blood pressure', fontsize = 14)\n",
        "plt.ylabel('Frequency', fontsize = 14)\n",
        "plt.title('Histogram for Mean of Samples of Maximum Blood Pressure', fontsize = 16)\n",
        "plt.axvline(np.mean(trestbps_means_list), color = 'r')\n",
        "plt.show()\n",
        "print(f\"The mean of samples of maximum blood pressure = {np.mean(trestbps_means_list):.3f}\")"
      ],
      "execution_count": null,
      "outputs": [
        {
          "output_type": "display_data",
          "data": {
            "image/png": "[encoded data removed]",
            "text/plain": [
              "<Figure size 1008x360 with 1 Axes>"
            ]
          },
          "metadata": {
            "tags": [],
            "needs_background": "light"
          }
        },
        {
          "output_type": "stream",
          "text": [
            "The mean of samples of maximum blood pressure = 131.484\n"
          ],
          "name": "stdout"
        }
      ]
    },
    {
      "cell_type": "code",
      "metadata": {
        "id": "QuPqd95FA_Fr",
        "colab": {
          "base_uri": "https://localhost:8080/",
          "height": 373
        },
        "outputId": "a6fe4013-0a85-4307-eda6-ab6bd710ba0a"
      },
      "source": [
        "# AS1.3: Create a histogram for 'thalach' column.\n",
        "plt.figure(figsize = (14, 5))\n",
        "plt.hist(df['thalach'], bins = 'sturges', edgecolor = 'black')\n",
        "plt.xlabel('Maximum heart rate', fontsize = 14)\n",
        "plt.ylabel('Frequency', fontsize = 14)\n",
        "plt.title('Histogram for Maximum Heart Rate', fontsize = 16)\n",
        "plt.axvline(x = df['thalach'].mean(), color = 'r')\n",
        "plt.show()\n",
        "print(f\"The mean maximum heart rate = {df['thalach'].mean():.3f}\")"
      ],
      "execution_count": null,
      "outputs": [
        {
          "output_type": "display_data",
          "data": {
            "image/png": "[encoded data removed]",
            "text/plain": [
              "<Figure size 1008x360 with 1 Axes>"
            ]
          },
          "metadata": {
            "tags": [],
            "needs_background": "light"
          }
        },
        {
          "output_type": "stream",
          "text": [
            "The mean maximum heart rate = 149.647\n"
          ],
          "name": "stdout"
        }
      ]
    },
    {
      "cell_type": "markdown",
      "metadata": {
        "id": "OOYAXVnCrS9h"
      },
      "source": [
        "Now draw 500 samples from the `thalach` column each of size 30 and create a histogram for the mean of the samples."
      ]
    },
    {
      "cell_type": "code",
      "metadata": {
        "id": "QUsSPT_NCEcY",
        "colab": {
          "base_uri": "https://localhost:8080/",
          "height": 373
        },
        "outputId": "ab1d7fb8-1765-4cf8-f61e-c5a081a7143c"
      },
      "source": [
        "# AS1.4: Create a histogram for the mean of the samples taken from the 'trestbps' column.\n",
        "thalach_means_list = []\n",
        "for i in range(500):\n",
        "    thalach_means_list.append(df['thalach'].sample(n = 20, replace = True).mean())\n",
        "\n",
        "plt.figure(figsize = (14, 5))\n",
        "plt.hist(thalach_means_list, bins = 'sturges', edgecolor = 'black')\n",
        "plt.xlabel('Mean of samples of maximum heart rate', fontsize = 14)\n",
        "plt.ylabel('Frequency', fontsize = 14)\n",
        "plt.title('Histogram for Mean of Samples of Maximum Heart Rate', fontsize = 16)\n",
        "plt.axvline(np.mean(thalach_means_list), color = 'r')\n",
        "plt.show()\n",
        "print(f\"The mean of samples of maximum heart rate = {np.mean(thalach_means_list):.3f}\")"
      ],
      "execution_count": null,
      "outputs": [
        {
          "output_type": "display_data",
          "data": {
            "image/png": "[encoded data removed]",
            "text/plain": [
              "<Figure size 1008x360 with 1 Axes>"
            ]
          },
          "metadata": {
            "tags": [],
            "needs_background": "light"
          }
        },
        {
          "output_type": "stream",
          "text": [
            "The mean of samples of maximum heart rate = 149.826\n"
          ],
          "name": "stdout"
        }
      ]
    },
    {
      "cell_type": "markdown",
      "metadata": {
        "id": "Jp1LEL5DsNqs"
      },
      "source": [
        "---"
      ]
    },
    {
      "cell_type": "markdown",
      "metadata": {
        "id": "zZS-MCJ4yVL7"
      },
      "source": [
        "#### Activities\n",
        "\n",
        "**Teacher Activities**\n",
        "\n",
        "1. Central Limit Theorem I (Class Copy)\n",
        "\n",
        "   https://colab.research.google.com/drive/1VNvJCnQhKg8XBnUWjPMuE-CRZrOV6BUD\n",
        "     \n",
        "2. Central Limit Theorem I (Reference Copy)\n",
        "\n",
        "   https://colab.research.google.com/drive/1WG2PLnDa4BtNQZNSyYFdiyrNElm4Xjfg\n",
        "   "
      ]
    },
    {
      "cell_type": "markdown",
      "metadata": {
        "id": "b0Oo18u7yj8V"
      },
      "source": [
        "---"
      ]
    }
  ]
}